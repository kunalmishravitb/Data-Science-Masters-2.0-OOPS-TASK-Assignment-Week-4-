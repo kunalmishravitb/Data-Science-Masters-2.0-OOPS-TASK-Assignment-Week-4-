{
 "cells": [
  {
   "cell_type": "markdown",
   "id": "523e4e5c",
   "metadata": {},
   "source": [
    "## Q1. Create a vehicle class with an init method having instance variables as name_of_vehicle, max_speed and average_of_vehicle."
   ]
  },
  {
   "cell_type": "code",
   "execution_count": 1,
   "id": "9c04c5d2",
   "metadata": {},
   "outputs": [],
   "source": [
    "class vehicle:\n",
    "    def __init__(self, name_of_vehicle, max_speed, average_of_vehicle):\n",
    "        self.name_of_vehicle = name_of_vehicle\n",
    "        self.max_speed = max_speed\n",
    "        self.average_of_vehicle = average_of_vehicle\n",
    "        \n",
    "    def return_vehicle_details(self):\n",
    "        return self.name_of_vehicle, self.max_speed, self.average_of_vehicle"
   ]
  },
  {
   "cell_type": "code",
   "execution_count": 2,
   "id": "ac31e1f3",
   "metadata": {},
   "outputs": [],
   "source": [
    "vehicle_details = vehicle(\"BMW\", \"180 km/hr\", \"100 km/hr\")"
   ]
  },
  {
   "cell_type": "code",
   "execution_count": 3,
   "id": "62135158",
   "metadata": {},
   "outputs": [
    {
     "data": {
      "text/plain": [
       "'BMW'"
      ]
     },
     "execution_count": 3,
     "metadata": {},
     "output_type": "execute_result"
    }
   ],
   "source": [
    "vehicle_details.name_of_vehicle"
   ]
  },
  {
   "cell_type": "code",
   "execution_count": 4,
   "id": "879e1397",
   "metadata": {},
   "outputs": [
    {
     "data": {
      "text/plain": [
       "'180 km/hr'"
      ]
     },
     "execution_count": 4,
     "metadata": {},
     "output_type": "execute_result"
    }
   ],
   "source": [
    "vehicle_details.max_speed"
   ]
  },
  {
   "cell_type": "code",
   "execution_count": 5,
   "id": "7d58ca3d",
   "metadata": {},
   "outputs": [
    {
     "data": {
      "text/plain": [
       "'100 km/hr'"
      ]
     },
     "execution_count": 5,
     "metadata": {},
     "output_type": "execute_result"
    }
   ],
   "source": [
    "vehicle_details.average_of_vehicle"
   ]
  },
  {
   "cell_type": "markdown",
   "id": "843358d2",
   "metadata": {},
   "source": [
    "## Q2. Create a child class car from the vehicle class created in Que 1, which will inherit the vehicle class. Create a method named seating_capacity which takes capacity as an argument and returns the name of the vehicle and its seating capacity."
   ]
  },
  {
   "cell_type": "code",
   "execution_count": 6,
   "id": "fdfae60e",
   "metadata": {},
   "outputs": [],
   "source": [
    "class car(vehicle):\n",
    "    def seating_capacity(self, capacity):\n",
    "        return f\"The {self.name_of_vehicle} has a seating capacity of {capacity} people.\""
   ]
  },
  {
   "cell_type": "code",
   "execution_count": 7,
   "id": "e960ddb5",
   "metadata": {},
   "outputs": [],
   "source": [
    "car1 = car(\"Mercedes\", 180, 12)"
   ]
  },
  {
   "cell_type": "code",
   "execution_count": 8,
   "id": "0dae4131",
   "metadata": {},
   "outputs": [
    {
     "name": "stdout",
     "output_type": "stream",
     "text": [
      "The Mercedes has a seating capacity of 5 people.\n"
     ]
    }
   ],
   "source": [
    "print(car1.seating_capacity(5))"
   ]
  },
  {
   "cell_type": "markdown",
   "id": "66b661fc",
   "metadata": {},
   "source": [
    "## Q3. What is multiple inheritance? Write a python code to demonstrate multiple inheritance."
   ]
  },
  {
   "cell_type": "markdown",
   "id": "baaecbc7",
   "metadata": {},
   "source": [
    "Multiple inheritance is a feature in object-oriented programming where a class can inherit properties and methods from multiple parent classes. It allows a subclass to inherit from multiple base classes simultaneously. Here's an example code demonstrating multiple inheritance:"
   ]
  },
  {
   "cell_type": "code",
   "execution_count": 9,
   "id": "3febc927",
   "metadata": {},
   "outputs": [],
   "source": [
    "class parent1:\n",
    "    def method1(self):\n",
    "        return \"This is method1 of Parent1.\""
   ]
  },
  {
   "cell_type": "code",
   "execution_count": 10,
   "id": "89c4699d",
   "metadata": {},
   "outputs": [],
   "source": [
    "class parent2:\n",
    "    def method2(self):\n",
    "        return \"This is method2 of Parent2.\""
   ]
  },
  {
   "cell_type": "code",
   "execution_count": 11,
   "id": "57da2d4e",
   "metadata": {},
   "outputs": [],
   "source": [
    "class child(parent1, parent2):\n",
    "    def method3(self):\n",
    "        return \"This is method3 of child.\""
   ]
  },
  {
   "cell_type": "code",
   "execution_count": 12,
   "id": "dd889d29",
   "metadata": {},
   "outputs": [],
   "source": [
    "obj_child = child()"
   ]
  },
  {
   "cell_type": "code",
   "execution_count": 13,
   "id": "68fb84d3",
   "metadata": {},
   "outputs": [
    {
     "data": {
      "text/plain": [
       "'This is method1 of Parent1.'"
      ]
     },
     "execution_count": 13,
     "metadata": {},
     "output_type": "execute_result"
    }
   ],
   "source": [
    "obj_child.method1()"
   ]
  },
  {
   "cell_type": "code",
   "execution_count": 14,
   "id": "f2bc8473",
   "metadata": {},
   "outputs": [
    {
     "data": {
      "text/plain": [
       "'This is method2 of Parent2.'"
      ]
     },
     "execution_count": 14,
     "metadata": {},
     "output_type": "execute_result"
    }
   ],
   "source": [
    "obj_child.method2()"
   ]
  },
  {
   "cell_type": "code",
   "execution_count": 15,
   "id": "97564bae",
   "metadata": {},
   "outputs": [
    {
     "data": {
      "text/plain": [
       "'This is method3 of child.'"
      ]
     },
     "execution_count": 15,
     "metadata": {},
     "output_type": "execute_result"
    }
   ],
   "source": [
    "obj_child.method3()"
   ]
  },
  {
   "cell_type": "markdown",
   "id": "91c5f352",
   "metadata": {},
   "source": [
    "## Q4. What are getter and setter in python? Create a class and create a getter and a setter method in this class."
   ]
  },
  {
   "cell_type": "markdown",
   "id": "a1493960",
   "metadata": {},
   "source": [
    "Getter and setter methods are used to access and modify the values of private attributes of a class, providing encapsulation and data abstraction. Here's an example of a class with getter and setter methods:"
   ]
  },
  {
   "cell_type": "code",
   "execution_count": 16,
   "id": "10ab89f1",
   "metadata": {},
   "outputs": [],
   "source": [
    "class ExampleClass:\n",
    "    def __init__(self):\n",
    "        self._attribute = None  # Private attribute with a single underscore\n",
    "\n",
    "    def get_attribute(self):\n",
    "        return self._attribute\n",
    "\n",
    "    def set_attribute(self, value):\n",
    "        self._attribute = value"
   ]
  },
  {
   "cell_type": "code",
   "execution_count": 17,
   "id": "d5fd708a",
   "metadata": {},
   "outputs": [],
   "source": [
    "example = ExampleClass()"
   ]
  },
  {
   "cell_type": "code",
   "execution_count": 18,
   "id": "0142aa5d",
   "metadata": {},
   "outputs": [],
   "source": [
    "example.set_attribute(40)"
   ]
  },
  {
   "cell_type": "code",
   "execution_count": 19,
   "id": "969a2d4e",
   "metadata": {},
   "outputs": [
    {
     "name": "stdout",
     "output_type": "stream",
     "text": [
      "40\n"
     ]
    }
   ],
   "source": [
    "print(example.get_attribute())"
   ]
  },
  {
   "cell_type": "markdown",
   "id": "83c43556",
   "metadata": {},
   "source": [
    "## Q5.What is method overriding in python? Write a python code to demonstrate method overriding."
   ]
  },
  {
   "cell_type": "markdown",
   "id": "d3f9f5de",
   "metadata": {},
   "source": [
    "Method overriding is a concept in object-oriented programming where a subclass provides a different implementation of a method that is already defined in its superclass. The method in the subclass overrides the method in the superclass. Here's an example demonstrating method overriding:"
   ]
  },
  {
   "cell_type": "code",
   "execution_count": 20,
   "id": "b560baa6",
   "metadata": {},
   "outputs": [],
   "source": [
    "class Parent:\n",
    "    def greet(self):\n",
    "        print(\"This is the Parent class!\")"
   ]
  },
  {
   "cell_type": "code",
   "execution_count": 21,
   "id": "1ce5e4ff",
   "metadata": {},
   "outputs": [],
   "source": [
    "class Child(Parent):\n",
    "    def greet(self):\n",
    "        print(\"This is the Child class!\")"
   ]
  },
  {
   "cell_type": "code",
   "execution_count": 22,
   "id": "a2a37dc6",
   "metadata": {},
   "outputs": [],
   "source": [
    "parent = Parent()"
   ]
  },
  {
   "cell_type": "code",
   "execution_count": 23,
   "id": "fff44eb5",
   "metadata": {},
   "outputs": [],
   "source": [
    "child = Child()"
   ]
  },
  {
   "cell_type": "code",
   "execution_count": 24,
   "id": "5ddaf837",
   "metadata": {},
   "outputs": [
    {
     "name": "stdout",
     "output_type": "stream",
     "text": [
      "This is the Parent class!\n"
     ]
    }
   ],
   "source": [
    "parent.greet()"
   ]
  },
  {
   "cell_type": "code",
   "execution_count": 25,
   "id": "5d72541f",
   "metadata": {},
   "outputs": [
    {
     "name": "stdout",
     "output_type": "stream",
     "text": [
      "This is the Child class!\n"
     ]
    }
   ],
   "source": [
    "child.greet()"
   ]
  },
  {
   "cell_type": "markdown",
   "id": "9fa32254",
   "metadata": {},
   "source": [
    "In this example, the 'greet' method in the 'Child' class overrides the 'greet' method in the 'Parent' class, providing a different implementation."
   ]
  }
 ],
 "metadata": {
  "kernelspec": {
   "display_name": "Python 3 (ipykernel)",
   "language": "python",
   "name": "python3"
  },
  "language_info": {
   "codemirror_mode": {
    "name": "ipython",
    "version": 3
   },
   "file_extension": ".py",
   "mimetype": "text/x-python",
   "name": "python",
   "nbconvert_exporter": "python",
   "pygments_lexer": "ipython3",
   "version": "3.10.0"
  }
 },
 "nbformat": 4,
 "nbformat_minor": 5
}
